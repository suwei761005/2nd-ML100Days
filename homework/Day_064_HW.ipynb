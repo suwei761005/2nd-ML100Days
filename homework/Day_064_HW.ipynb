{
 "cells": [
  {
   "cell_type": "markdown",
   "metadata": {},
   "source": [
    "# 作業\n",
    "* 選擇迴歸資料集(右) - 交錯六群，在其他參數保持預設值的情況下，只允許調整隱藏層層數與神經元數量，且遵守下列限制   \n",
    "> * 隱藏層神經元總數最多 8 個 (即 : 可以單層 8 個，或兩層 5 個與 3 個)   \n",
    "> * 遞迴次數只允許跑到500次  \n",
    "* 在上述限制下，挑戰看看測試誤差 (Test Loss) 最低能到多少? 請回答你的神經元參數與 Test Loss 數"
   ]
  },
  {
   "cell_type": "markdown",
   "metadata": {
    "collapsed": true
   },
   "source": [
    "分類問題:\n",
    "1.同心圓 第一層3個 第二層3個 第三層2個 TEST LOSS:0.000\n",
    "2.XOR 第一層2個 第二層2個 第三層1個 TEST LOSS:0.000\n",
    "3.2群 第一層1個 TEST LOSS:0.000\n",
    "4.螺旋雙臂 第1層4個 第2層4個 TEST LOSS:0.456\n",
    "回歸問題:\n",
    "1.對角線 第1層1個 TEST LOSS:0.000\n",
    "2.交錯六群 第1層6個 第2層2個 TEST LOSS:0.013"
   ]
  }
 ],
 "metadata": {
  "kernelspec": {
   "display_name": "Python 3",
   "language": "python",
   "name": "python3"
  },
  "language_info": {
   "codemirror_mode": {
    "name": "ipython",
    "version": 3
   },
   "file_extension": ".py",
   "mimetype": "text/x-python",
   "name": "python",
   "nbconvert_exporter": "python",
   "pygments_lexer": "ipython3",
   "version": "3.6.5"
  }
 },
 "nbformat": 4,
 "nbformat_minor": 2
}
