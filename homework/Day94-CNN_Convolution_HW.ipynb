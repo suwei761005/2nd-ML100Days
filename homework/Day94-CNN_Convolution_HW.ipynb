{
 "cells": [
  {
   "cell_type": "markdown",
   "metadata": {},
   "source": [
    "# 作業目標:\n",
    "    了解 Convolution 卷積的組成"
   ]
  },
  {
   "cell_type": "markdown",
   "metadata": {},
   "source": [
    "# 作業重點:\n",
    "    修改 a_slice_prev, 檢查 Z 的輸出"
   ]
  },
  {
   "cell_type": "code",
   "execution_count": 1,
   "metadata": {},
   "outputs": [],
   "source": [
    "import numpy as np"
   ]
  },
  {
   "cell_type": "code",
   "execution_count": 2,
   "metadata": {},
   "outputs": [],
   "source": [
    "# GRADED FUNCTION: conv_single_step\n",
    "def conv_single_step(a_slice_prev, W, b):\n",
    "    \"\"\"\n",
    "    定義一層 Kernel (內核), 使用的參數說明如下\n",
    "    Arguments:\n",
    "        a_slice_prev -- 輸入資料的維度\n",
    "        W -- 權重, 被使用在 a_slice_prev\n",
    "        b -- 偏差參數 \n",
    "    Returns:\n",
    "        Z -- 滑動窗口（W，b）卷積在前一個 feature map 上的結果\n",
    "    \"\"\"\n",
    "\n",
    "    # 定義一個元素介於 a_slice and W\n",
    "    s = a_slice_prev * W\n",
    "    # 加總所有的 \"s\" 並指定給Z.\n",
    "    Z = np.sum(s)\n",
    "    # Add bias b to Z. 這是 float() 函數,\n",
    "    Z = float(Z + b)\n",
    "\n",
    "    return Z"
   ]
  },
  {
   "cell_type": "code",
   "execution_count": 3,
   "metadata": {},
   "outputs": [
    {
     "data": {
      "text/plain": [
       "'\\n\\nnp.random.seed(1)\\n#定義一個 axaxd 的 feature map\\na_slice_prev = \\nW = \\nb = np.random.randn(1, 1, 1)\\n\\n#取得計算後,卷積矩陣的值\\nZ = conv_single_step(a_slice_prev, W, b)\\nprint(\"Z =\", Z)\\n'"
      ]
     },
     "execution_count": 3,
     "metadata": {},
     "output_type": "execute_result"
    }
   ],
   "source": [
    "'''\n",
    "\n",
    "np.random.seed(1)\n",
    "#定義一個 axaxd 的 feature map\n",
    "a_slice_prev = \n",
    "W = \n",
    "b = np.random.randn(1, 1, 1)\n",
    "\n",
    "#取得計算後,卷積矩陣的值\n",
    "Z = conv_single_step(a_slice_prev, W, b)\n",
    "print(\"Z =\", Z)\n",
    "'''"
   ]
  },
  {
   "cell_type": "code",
   "execution_count": 18,
   "metadata": {},
   "outputs": [
    {
     "name": "stdout",
     "output_type": "stream",
     "text": [
      "維度:2-2-2  Z:5.356930357545693\n",
      "維度:2-2-3  Z:-4.450179684589614\n",
      "維度:2-2-4  Z:-1.0012423155060572\n",
      "維度:2-3-2  Z:1.924561217863063\n",
      "維度:2-3-3  Z:-1.8808358319342733\n",
      "維度:2-3-4  Z:3.851554171553766\n",
      "維度:2-4-2  Z:0.8120238379011104\n",
      "維度:2-4-3  Z:-1.876525259476316\n",
      "維度:2-4-4  Z:-0.4745706881441287\n",
      "維度:3-2-2  Z:-2.2303658913854525\n",
      "維度:3-2-3  Z:-3.0241444202385717\n",
      "維度:3-2-4  Z:-13.078104780085601\n",
      "維度:3-3-2  Z:3.0243527609494665\n",
      "維度:3-3-3  Z:-0.5295970859297173\n",
      "維度:3-3-4  Z:13.419278139491801\n",
      "維度:3-4-2  Z:-3.76823908512742\n",
      "維度:3-4-3  Z:-6.370116069685912\n",
      "維度:3-4-4  Z:10.73797557548317\n",
      "維度:4-2-2  Z:1.3973003294761557\n",
      "維度:4-2-3  Z:-13.155112217935766\n",
      "維度:4-2-4  Z:-0.9758818682404475\n",
      "維度:4-3-2  Z:-2.5162127242329073\n",
      "維度:4-3-3  Z:2.687856101017265\n",
      "維度:4-3-4  Z:-3.2524023704155445\n",
      "維度:4-4-2  Z:-5.187021671480495\n",
      "維度:4-4-3  Z:-0.8756968678164759\n",
      "維度:4-4-4  Z:0.8572873220722359\n"
     ]
    }
   ],
   "source": [
    "import numpy as np\n",
    "import itertools\n",
    "# GRADED FUNCTION: conv_single_step\n",
    "def conv_single_step(a_slice_prev, W, b):\n",
    "    \"\"\"\n",
    "    定義一層 Kernel (內核), 使用的參數說明如下\n",
    "    Arguments:\n",
    "        a_slice_prev -- 輸入資料的維度\n",
    "        W -- 權重, 被使用在 a_slice_prev\n",
    "        b -- 偏差參數 \n",
    "    Returns:\n",
    "        Z -- 滑動窗口（W，b）卷積在前一個 feature map 上的結果\n",
    "    \"\"\"\n",
    "\n",
    "    # 定義一個元素介於 a_slice and W\n",
    "    s = a_slice_prev * W\n",
    "    # 加總所有的 \"s\" 並指定給Z.\n",
    "    Z = np.sum(s)\n",
    "    # Add bias b to Z. 這是 float() 函數,\n",
    "    Z = float(Z + b)\n",
    "\n",
    "    return Z\n",
    "np.random.seed(1)\n",
    "A_list = [2,3,4]\n",
    "B_list = [2,3,4]\n",
    "C_list = [2,3,4]\n",
    "#定義一個 4x4x3 的 feature map\n",
    "for al,bl,cl in itertools.product(A_list, B_list,C_list):\n",
    "    a_slice_prev = np.random.randn(al, bl, cl)\n",
    "    W = np.random.randn(al, bl, cl)\n",
    "    b = np.random.randn(1, 1, 1)\n",
    "\n",
    "    #取得計算後,卷績矩陣的值\n",
    "    Z = conv_single_step(a_slice_prev, W, b)\n",
    "    exp_name_tag = \"維度:%s-%s-%s  Z:%s\" % (str(al),str(bl),str(cl),str(Z))\n",
    "    print(exp_name_tag)"
   ]
  },
  {
   "cell_type": "code",
   "execution_count": null,
   "metadata": {},
   "outputs": [],
   "source": []
  }
 ],
 "metadata": {
  "kernelspec": {
   "display_name": "Python 3",
   "language": "python",
   "name": "python3"
  },
  "language_info": {
   "codemirror_mode": {
    "name": "ipython",
    "version": 3
   },
   "file_extension": ".py",
   "mimetype": "text/x-python",
   "name": "python",
   "nbconvert_exporter": "python",
   "pygments_lexer": "ipython3",
   "version": "3.7.3"
  }
 },
 "nbformat": 4,
 "nbformat_minor": 2
}
