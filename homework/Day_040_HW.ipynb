{
 "cells": [
  {
   "cell_type": "markdown",
   "metadata": {},
   "source": [
    "## [作業重點]\n",
    "使用 Sklearn 中的 Lasso, Ridge 模型，來訓練各種資料集，務必了解送進去模型訓練的**資料型態**為何，也請了解模型中各項參數的意義。\n",
    "\n",
    "機器學習的模型非常多種，但要訓練的資料多半有固定的格式，確保你了解訓練資料的格式為何，這樣在應用新模型時，就能夠最快的上手開始訓練！"
   ]
  },
  {
   "cell_type": "markdown",
   "metadata": {},
   "source": [
    "## 練習時間\n",
    "試著使用 sklearn datasets 的其他資料集 (boston, ...)，來訓練自己的線性迴歸模型，並加上適當的正則話來觀察訓練情形。"
   ]
  },
  {
   "cell_type": "code",
   "execution_count": 14,
   "metadata": {},
   "outputs": [
    {
     "name": "stdout",
     "output_type": "stream",
     "text": [
      "[  0.          -0.         430.35766307 183.77223699  -0.\n",
      "   0.         -35.98689449   0.         430.16968742   0.        ]\n",
      "[  0.          -0.         321.203877    57.74744332   0.\n",
      "   0.          -0.           0.         332.41817196   0.        ]\n",
      "[  0.          -0.         185.19087392   0.           0.\n",
      "   0.          -0.           0.         205.03446526   0.        ]\n",
      "alpha=0.5 Mean squared error: 3055.79\n",
      "alpha=1.0 Mean squared error: 3505.84\n",
      "alpha=1.5 Mean squared error: 4196.06\n"
     ]
    }
   ],
   "source": [
    "import numpy as np\n",
    "import matplotlib.pyplot as plt\n",
    "from sklearn import datasets, linear_model\n",
    "from sklearn.model_selection import train_test_split\n",
    "from sklearn.metrics import mean_squared_error, r2_score\n",
    "# 讀取酒資料集\n",
    "wine = datasets.load_wine()\n",
    "\n",
    "# 切分訓練集/測試集\n",
    "x_train, x_test, y_train, y_test = train_test_split(wine.data, wine.target, test_size=0.2, random_state=4)\n",
    "\n",
    "# 切分訓練集/測試集\n",
    "x_train, x_test, y_train, y_test = train_test_split(diabetes.data, diabetes.target, test_size=0.2, random_state=4)\n",
    "\n",
    "# 建立一個線性回歸模型\n",
    "lasso = linear_model.Lasso(alpha=0.5)\n",
    "lasso1 = linear_model.Lasso(alpha=1.0)\n",
    "lasso2 = linear_model.Lasso(alpha=1.5)\n",
    "# 將訓練資料丟進去模型訓練\n",
    "lasso.fit(x_train, y_train)\n",
    "lasso1.fit(x_train, y_train)\n",
    "lasso2.fit(x_train, y_train)\n",
    "print(lasso.coef_)\n",
    "print(lasso1.coef_)\n",
    "print(lasso2.coef_)\n",
    "# 將測試資料丟進模型得到預測結果\n",
    "y_pred = lasso.predict(x_test)\n",
    "y_pred1 = lasso1.predict(x_test)\n",
    "y_pred2 = lasso2.predict(x_test)\n",
    "# 預測值與實際值的差距，使用 MSE\n",
    "print(\"alpha=0.5 Mean squared error: %.2f\"\n",
    "      % mean_squared_error(y_test, y_pred))\n",
    "print(\"alpha=1.0 Mean squared error: %.2f\"\n",
    "      % mean_squared_error(y_test, y_pred1))\n",
    "print(\"alpha=1.5 Mean squared error: %.2f\"\n",
    "      % mean_squared_error(y_test, y_pred2))"
   ]
  },
  {
   "cell_type": "code",
   "execution_count": 18,
   "metadata": {},
   "outputs": [
    {
     "name": "stdout",
     "output_type": "stream",
     "text": [
      "[  48.85429816 -141.16877761  344.80790594  253.81001448   -2.22498925\n",
      "  -47.4416483  -158.43942109  134.03758245  313.60878633   92.62793666]\n",
      "[  48.8125786   -85.49511577  270.22532535  201.91767903   17.41308665\n",
      "  -19.04346706 -136.47737574  122.26503311  247.60074795   95.59855598]\n",
      "[  46.64932704  -57.42697627  224.30318509  169.68475525   24.98945099\n",
      "   -4.35721957 -119.6958539   111.80862928  207.922052     90.5665066 ]\n",
      "alpha=0.5 Mean squared error: 3019.00\n",
      "alpha=1.0 Mean squared error: 3221.42\n",
      "alpha=1.5 Mean squared error: 3399.85\n"
     ]
    }
   ],
   "source": [
    "import numpy as np\n",
    "import matplotlib.pyplot as plt\n",
    "from sklearn import datasets, linear_model\n",
    "from sklearn.model_selection import train_test_split\n",
    "from sklearn.metrics import mean_squared_error, r2_score\n",
    "# 讀取酒資料集\n",
    "wine = datasets.load_wine()\n",
    "\n",
    "# 切分訓練集/測試集\n",
    "x_train, x_test, y_train, y_test = train_test_split(wine.data, wine.target, test_size=0.2, random_state=4)\n",
    "\n",
    "# 切分訓練集/測試集\n",
    "x_train, x_test, y_train, y_test = train_test_split(diabetes.data, diabetes.target, test_size=0.2, random_state=4)\n",
    "\n",
    "# 建立一個線性回歸模型\n",
    "ridge = linear_model.Ridge(alpha=0.5)\n",
    "ridge1 = linear_model.Ridge(alpha=1.0)\n",
    "ridge2 = linear_model.Ridge(alpha=1.5)\n",
    "# 將訓練資料丟進去模型訓練\n",
    "ridge.fit(x_train, y_train)\n",
    "ridge1.fit(x_train, y_train)\n",
    "ridge2.fit(x_train, y_train)\n",
    "print(ridge.coef_)\n",
    "print(ridge1.coef_)\n",
    "print(ridge2.coef_)\n",
    "# 將測試資料丟進模型得到預測結果\n",
    "y_pred = ridge.predict(x_test)\n",
    "y_pred1 = ridge1.predict(x_test)\n",
    "y_pred2 = ridge2.predict(x_test)\n",
    "# 預測值與實際值的差距，使用 MSE\n",
    "print(\"alpha=0.5 Mean squared error: %.2f\"\n",
    "      % mean_squared_error(y_test, y_pred))\n",
    "print(\"alpha=1.0 Mean squared error: %.2f\"\n",
    "      % mean_squared_error(y_test, y_pred1))\n",
    "print(\"alpha=1.5 Mean squared error: %.2f\"\n",
    "      % mean_squared_error(y_test, y_pred2))"
   ]
  },
  {
   "cell_type": "code",
   "execution_count": null,
   "metadata": {},
   "outputs": [],
   "source": [
    "#觀察到係數調的越大 誤差值越大 但是模型係數會降低"
   ]
  }
 ],
 "metadata": {
  "kernelspec": {
   "display_name": "Python 3",
   "language": "python",
   "name": "python3"
  },
  "language_info": {
   "codemirror_mode": {
    "name": "ipython",
    "version": 3
   },
   "file_extension": ".py",
   "mimetype": "text/x-python",
   "name": "python",
   "nbconvert_exporter": "python",
   "pygments_lexer": "ipython3",
   "version": "3.6.5"
  }
 },
 "nbformat": 4,
 "nbformat_minor": 2
}
